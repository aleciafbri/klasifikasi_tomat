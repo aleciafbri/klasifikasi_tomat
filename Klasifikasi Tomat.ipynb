{
 "cells": [
  {
   "cell_type": "code",
   "execution_count": 4,
   "id": "55da85ab-15f5-44ac-bad4-49dc88bb6d55",
   "metadata": {},
   "outputs": [
    {
     "data": {
      "text/html": [
       "<div>\n",
       "<style scoped>\n",
       "    .dataframe tbody tr th:only-of-type {\n",
       "        vertical-align: middle;\n",
       "    }\n",
       "\n",
       "    .dataframe tbody tr th {\n",
       "        vertical-align: top;\n",
       "    }\n",
       "\n",
       "    .dataframe thead th {\n",
       "        text-align: right;\n",
       "    }\n",
       "</style>\n",
       "<table border=\"1\" class=\"dataframe\">\n",
       "  <thead>\n",
       "    <tr style=\"text-align: right;\">\n",
       "      <th></th>\n",
       "      <th>berat</th>\n",
       "      <th>kekenyalan</th>\n",
       "      <th>kadar_gula</th>\n",
       "      <th>tebal_kulit</th>\n",
       "      <th>grade</th>\n",
       "    </tr>\n",
       "  </thead>\n",
       "  <tbody>\n",
       "    <tr>\n",
       "      <th>0</th>\n",
       "      <td>95</td>\n",
       "      <td>8.5</td>\n",
       "      <td>4.8</td>\n",
       "      <td>0.85</td>\n",
       "      <td>Ekspor</td>\n",
       "    </tr>\n",
       "    <tr>\n",
       "      <th>1</th>\n",
       "      <td>88</td>\n",
       "      <td>9.2</td>\n",
       "      <td>5.1</td>\n",
       "      <td>0.90</td>\n",
       "      <td>Ekspor</td>\n",
       "    </tr>\n",
       "    <tr>\n",
       "      <th>2</th>\n",
       "      <td>102</td>\n",
       "      <td>8.8</td>\n",
       "      <td>4.9</td>\n",
       "      <td>0.82</td>\n",
       "      <td>Ekspor</td>\n",
       "    </tr>\n",
       "    <tr>\n",
       "      <th>3</th>\n",
       "      <td>110</td>\n",
       "      <td>8.1</td>\n",
       "      <td>4.6</td>\n",
       "      <td>0.88</td>\n",
       "      <td>Ekspor</td>\n",
       "    </tr>\n",
       "    <tr>\n",
       "      <th>4</th>\n",
       "      <td>92</td>\n",
       "      <td>9.0</td>\n",
       "      <td>5.0</td>\n",
       "      <td>0.87</td>\n",
       "      <td>Ekspor</td>\n",
       "    </tr>\n",
       "    <tr>\n",
       "      <th>...</th>\n",
       "      <td>...</td>\n",
       "      <td>...</td>\n",
       "      <td>...</td>\n",
       "      <td>...</td>\n",
       "      <td>...</td>\n",
       "    </tr>\n",
       "    <tr>\n",
       "      <th>85</th>\n",
       "      <td>180</td>\n",
       "      <td>4.2</td>\n",
       "      <td>3.0</td>\n",
       "      <td>0.57</td>\n",
       "      <td>Industri</td>\n",
       "    </tr>\n",
       "    <tr>\n",
       "      <th>86</th>\n",
       "      <td>208</td>\n",
       "      <td>3.4</td>\n",
       "      <td>2.8</td>\n",
       "      <td>0.53</td>\n",
       "      <td>Industri</td>\n",
       "    </tr>\n",
       "    <tr>\n",
       "      <th>87</th>\n",
       "      <td>172</td>\n",
       "      <td>4.7</td>\n",
       "      <td>3.2</td>\n",
       "      <td>0.59</td>\n",
       "      <td>Industri</td>\n",
       "    </tr>\n",
       "    <tr>\n",
       "      <th>88</th>\n",
       "      <td>188</td>\n",
       "      <td>4.0</td>\n",
       "      <td>2.9</td>\n",
       "      <td>0.56</td>\n",
       "      <td>Industri</td>\n",
       "    </tr>\n",
       "    <tr>\n",
       "      <th>89</th>\n",
       "      <td>198</td>\n",
       "      <td>3.6</td>\n",
       "      <td>2.6</td>\n",
       "      <td>0.54</td>\n",
       "      <td>Industri</td>\n",
       "    </tr>\n",
       "  </tbody>\n",
       "</table>\n",
       "<p>90 rows × 5 columns</p>\n",
       "</div>"
      ],
      "text/plain": [
       "    berat  kekenyalan  kadar_gula  tebal_kulit     grade\n",
       "0      95         8.5         4.8         0.85    Ekspor\n",
       "1      88         9.2         5.1         0.90    Ekspor\n",
       "2     102         8.8         4.9         0.82    Ekspor\n",
       "3     110         8.1         4.6         0.88    Ekspor\n",
       "4      92         9.0         5.0         0.87    Ekspor\n",
       "..    ...         ...         ...          ...       ...\n",
       "85    180         4.2         3.0         0.57  Industri\n",
       "86    208         3.4         2.8         0.53  Industri\n",
       "87    172         4.7         3.2         0.59  Industri\n",
       "88    188         4.0         2.9         0.56  Industri\n",
       "89    198         3.6         2.6         0.54  Industri\n",
       "\n",
       "[90 rows x 5 columns]"
      ]
     },
     "execution_count": 4,
     "metadata": {},
     "output_type": "execute_result"
    }
   ],
   "source": [
    "import pandas as pd\n",
    "\n",
    "df = pd.read_csv(\"dataset_tomat.csv\")\n",
    "df "
   ]
  },
  {
   "cell_type": "code",
   "execution_count": 5,
   "id": "d3e10252-777a-40db-9c55-35e9c685b6b3",
   "metadata": {},
   "outputs": [
    {
     "data": {
      "text/html": [
       "<div>\n",
       "<style scoped>\n",
       "    .dataframe tbody tr th:only-of-type {\n",
       "        vertical-align: middle;\n",
       "    }\n",
       "\n",
       "    .dataframe tbody tr th {\n",
       "        vertical-align: top;\n",
       "    }\n",
       "\n",
       "    .dataframe thead th {\n",
       "        text-align: right;\n",
       "    }\n",
       "</style>\n",
       "<table border=\"1\" class=\"dataframe\">\n",
       "  <thead>\n",
       "    <tr style=\"text-align: right;\">\n",
       "      <th></th>\n",
       "      <th>berat</th>\n",
       "      <th>kekenyalan</th>\n",
       "      <th>kadar_gula</th>\n",
       "      <th>tebal_kulit</th>\n",
       "      <th>grade</th>\n",
       "    </tr>\n",
       "  </thead>\n",
       "  <tbody>\n",
       "    <tr>\n",
       "      <th>0</th>\n",
       "      <td>95</td>\n",
       "      <td>8.5</td>\n",
       "      <td>4.8</td>\n",
       "      <td>0.85</td>\n",
       "      <td>Ekspor</td>\n",
       "    </tr>\n",
       "    <tr>\n",
       "      <th>1</th>\n",
       "      <td>88</td>\n",
       "      <td>9.2</td>\n",
       "      <td>5.1</td>\n",
       "      <td>0.90</td>\n",
       "      <td>Ekspor</td>\n",
       "    </tr>\n",
       "    <tr>\n",
       "      <th>2</th>\n",
       "      <td>102</td>\n",
       "      <td>8.8</td>\n",
       "      <td>4.9</td>\n",
       "      <td>0.82</td>\n",
       "      <td>Ekspor</td>\n",
       "    </tr>\n",
       "    <tr>\n",
       "      <th>3</th>\n",
       "      <td>110</td>\n",
       "      <td>8.1</td>\n",
       "      <td>4.6</td>\n",
       "      <td>0.88</td>\n",
       "      <td>Ekspor</td>\n",
       "    </tr>\n",
       "    <tr>\n",
       "      <th>4</th>\n",
       "      <td>92</td>\n",
       "      <td>9.0</td>\n",
       "      <td>5.0</td>\n",
       "      <td>0.87</td>\n",
       "      <td>Ekspor</td>\n",
       "    </tr>\n",
       "  </tbody>\n",
       "</table>\n",
       "</div>"
      ],
      "text/plain": [
       "   berat  kekenyalan  kadar_gula  tebal_kulit   grade\n",
       "0     95         8.5         4.8         0.85  Ekspor\n",
       "1     88         9.2         5.1         0.90  Ekspor\n",
       "2    102         8.8         4.9         0.82  Ekspor\n",
       "3    110         8.1         4.6         0.88  Ekspor\n",
       "4     92         9.0         5.0         0.87  Ekspor"
      ]
     },
     "execution_count": 5,
     "metadata": {},
     "output_type": "execute_result"
    }
   ],
   "source": [
    "df.head()"
   ]
  },
  {
   "cell_type": "code",
   "execution_count": 6,
   "id": "bf9dab82-3302-4007-848c-840a80a4edb8",
   "metadata": {},
   "outputs": [
    {
     "data": {
      "text/html": [
       "<div>\n",
       "<style scoped>\n",
       "    .dataframe tbody tr th:only-of-type {\n",
       "        vertical-align: middle;\n",
       "    }\n",
       "\n",
       "    .dataframe tbody tr th {\n",
       "        vertical-align: top;\n",
       "    }\n",
       "\n",
       "    .dataframe thead th {\n",
       "        text-align: right;\n",
       "    }\n",
       "</style>\n",
       "<table border=\"1\" class=\"dataframe\">\n",
       "  <thead>\n",
       "    <tr style=\"text-align: right;\">\n",
       "      <th></th>\n",
       "      <th>berat</th>\n",
       "      <th>kekenyalan</th>\n",
       "      <th>kadar_gula</th>\n",
       "      <th>tebal_kulit</th>\n",
       "      <th>grade</th>\n",
       "    </tr>\n",
       "  </thead>\n",
       "  <tbody>\n",
       "    <tr>\n",
       "      <th>85</th>\n",
       "      <td>180</td>\n",
       "      <td>4.2</td>\n",
       "      <td>3.0</td>\n",
       "      <td>0.57</td>\n",
       "      <td>Industri</td>\n",
       "    </tr>\n",
       "    <tr>\n",
       "      <th>86</th>\n",
       "      <td>208</td>\n",
       "      <td>3.4</td>\n",
       "      <td>2.8</td>\n",
       "      <td>0.53</td>\n",
       "      <td>Industri</td>\n",
       "    </tr>\n",
       "    <tr>\n",
       "      <th>87</th>\n",
       "      <td>172</td>\n",
       "      <td>4.7</td>\n",
       "      <td>3.2</td>\n",
       "      <td>0.59</td>\n",
       "      <td>Industri</td>\n",
       "    </tr>\n",
       "    <tr>\n",
       "      <th>88</th>\n",
       "      <td>188</td>\n",
       "      <td>4.0</td>\n",
       "      <td>2.9</td>\n",
       "      <td>0.56</td>\n",
       "      <td>Industri</td>\n",
       "    </tr>\n",
       "    <tr>\n",
       "      <th>89</th>\n",
       "      <td>198</td>\n",
       "      <td>3.6</td>\n",
       "      <td>2.6</td>\n",
       "      <td>0.54</td>\n",
       "      <td>Industri</td>\n",
       "    </tr>\n",
       "  </tbody>\n",
       "</table>\n",
       "</div>"
      ],
      "text/plain": [
       "    berat  kekenyalan  kadar_gula  tebal_kulit     grade\n",
       "85    180         4.2         3.0         0.57  Industri\n",
       "86    208         3.4         2.8         0.53  Industri\n",
       "87    172         4.7         3.2         0.59  Industri\n",
       "88    188         4.0         2.9         0.56  Industri\n",
       "89    198         3.6         2.6         0.54  Industri"
      ]
     },
     "execution_count": 6,
     "metadata": {},
     "output_type": "execute_result"
    }
   ],
   "source": [
    "df.tail()"
   ]
  },
  {
   "cell_type": "code",
   "execution_count": 7,
   "id": "85aeef9c-8712-4aef-b8f1-b7dfb0eb6966",
   "metadata": {},
   "outputs": [
    {
     "name": "stdout",
     "output_type": "stream",
     "text": [
      "<class 'pandas.core.frame.DataFrame'>\n",
      "RangeIndex: 90 entries, 0 to 89\n",
      "Data columns (total 5 columns):\n",
      " #   Column       Non-Null Count  Dtype  \n",
      "---  ------       --------------  -----  \n",
      " 0   berat        90 non-null     int64  \n",
      " 1   kekenyalan   90 non-null     float64\n",
      " 2   kadar_gula   90 non-null     float64\n",
      " 3   tebal_kulit  90 non-null     float64\n",
      " 4   grade        90 non-null     object \n",
      "dtypes: float64(3), int64(1), object(1)\n",
      "memory usage: 3.6+ KB\n"
     ]
    }
   ],
   "source": [
    "df.info()"
   ]
  },
  {
   "cell_type": "code",
   "execution_count": 8,
   "id": "a3b5313d-c0be-4578-b0c3-640549d12733",
   "metadata": {},
   "outputs": [
    {
     "data": {
      "text/html": [
       "<div>\n",
       "<style scoped>\n",
       "    .dataframe tbody tr th:only-of-type {\n",
       "        vertical-align: middle;\n",
       "    }\n",
       "\n",
       "    .dataframe tbody tr th {\n",
       "        vertical-align: top;\n",
       "    }\n",
       "\n",
       "    .dataframe thead th {\n",
       "        text-align: right;\n",
       "    }\n",
       "</style>\n",
       "<table border=\"1\" class=\"dataframe\">\n",
       "  <thead>\n",
       "    <tr style=\"text-align: right;\">\n",
       "      <th></th>\n",
       "      <th>berat</th>\n",
       "      <th>kekenyalan</th>\n",
       "      <th>kadar_gula</th>\n",
       "      <th>tebal_kulit</th>\n",
       "    </tr>\n",
       "  </thead>\n",
       "  <tbody>\n",
       "    <tr>\n",
       "      <th>count</th>\n",
       "      <td>90.000000</td>\n",
       "      <td>90.000000</td>\n",
       "      <td>90.000000</td>\n",
       "      <td>90.000000</td>\n",
       "    </tr>\n",
       "    <tr>\n",
       "      <th>mean</th>\n",
       "      <td>142.388889</td>\n",
       "      <td>6.547778</td>\n",
       "      <td>3.956667</td>\n",
       "      <td>0.721778</td>\n",
       "    </tr>\n",
       "    <tr>\n",
       "      <th>std</th>\n",
       "      <td>37.919398</td>\n",
       "      <td>1.933456</td>\n",
       "      <td>0.785265</td>\n",
       "      <td>0.126461</td>\n",
       "    </tr>\n",
       "    <tr>\n",
       "      <th>min</th>\n",
       "      <td>85.000000</td>\n",
       "      <td>3.400000</td>\n",
       "      <td>2.600000</td>\n",
       "      <td>0.510000</td>\n",
       "    </tr>\n",
       "    <tr>\n",
       "      <th>25%</th>\n",
       "      <td>104.250000</td>\n",
       "      <td>4.525000</td>\n",
       "      <td>3.225000</td>\n",
       "      <td>0.592500</td>\n",
       "    </tr>\n",
       "    <tr>\n",
       "      <th>50%</th>\n",
       "      <td>143.000000</td>\n",
       "      <td>6.850000</td>\n",
       "      <td>4.000000</td>\n",
       "      <td>0.730000</td>\n",
       "    </tr>\n",
       "    <tr>\n",
       "      <th>75%</th>\n",
       "      <td>175.500000</td>\n",
       "      <td>8.375000</td>\n",
       "      <td>4.700000</td>\n",
       "      <td>0.847500</td>\n",
       "    </tr>\n",
       "    <tr>\n",
       "      <th>max</th>\n",
       "      <td>210.000000</td>\n",
       "      <td>9.400000</td>\n",
       "      <td>5.200000</td>\n",
       "      <td>0.920000</td>\n",
       "    </tr>\n",
       "  </tbody>\n",
       "</table>\n",
       "</div>"
      ],
      "text/plain": [
       "            berat  kekenyalan  kadar_gula  tebal_kulit\n",
       "count   90.000000   90.000000   90.000000    90.000000\n",
       "mean   142.388889    6.547778    3.956667     0.721778\n",
       "std     37.919398    1.933456    0.785265     0.126461\n",
       "min     85.000000    3.400000    2.600000     0.510000\n",
       "25%    104.250000    4.525000    3.225000     0.592500\n",
       "50%    143.000000    6.850000    4.000000     0.730000\n",
       "75%    175.500000    8.375000    4.700000     0.847500\n",
       "max    210.000000    9.400000    5.200000     0.920000"
      ]
     },
     "execution_count": 8,
     "metadata": {},
     "output_type": "execute_result"
    }
   ],
   "source": [
    "df.describe()"
   ]
  },
  {
   "cell_type": "code",
   "execution_count": 9,
   "id": "1d5e3289-cc30-473e-aa9b-c68f9f861675",
   "metadata": {},
   "outputs": [
    {
     "data": {
      "text/plain": [
       "(90, 5)"
      ]
     },
     "execution_count": 9,
     "metadata": {},
     "output_type": "execute_result"
    }
   ],
   "source": [
    "df.shape\n",
    "# menampilkan jumlah baris dan kolom"
   ]
  },
  {
   "cell_type": "code",
   "execution_count": 10,
   "id": "c80f1169-03a9-4afa-866a-20e3b09f147d",
   "metadata": {},
   "outputs": [
    {
     "data": {
      "text/plain": [
       "grade\n",
       "Ekspor           30\n",
       "Lokal Premium    30\n",
       "Industri         30\n",
       "Name: count, dtype: int64"
      ]
     },
     "execution_count": 10,
     "metadata": {},
     "output_type": "execute_result"
    }
   ],
   "source": [
    "df[\"grade\"].value_counts()"
   ]
  },
  {
   "cell_type": "code",
   "execution_count": 11,
   "id": "7c3475bf-4554-45d8-a52d-af22b15a4828",
   "metadata": {},
   "outputs": [
    {
     "data": {
      "image/png": "[encoded data removed]",
      "text/plain": [
       "<Figure size 600x500 with 1 Axes>"
      ]
     },
     "metadata": {},
     "output_type": "display_data"
    }
   ],
   "source": [
    "import matplotlib.pyplot as plt\n",
    "\n",
    "ekspor = df[df[\"grade\"]==\"Ekspor\"]\n",
    "lokal_premium = df[df[\"grade\"]==\"Lokal Premium\"]\n",
    "industri = df[df[\"grade\"]==\"Industri\"]\n",
    "\n",
    "plt.figure(figsize=(6,5))\n",
    "\n",
    "plt.scatter(ekspor[\"berat\"], ekspor[\"kekenyalan\"], s=100, alpha=0.7, color=\"red\", label=\"Ekspor\")\n",
    "plt.scatter(lokal_premium[\"berat\"], lokal_premium[\"kekenyalan\"], s=100, alpha=0.7, color=\"green\", label=\"Lokal Premium\")\n",
    "plt.scatter(industri[\"berat\"], industri[\"kekenyalan\"], s=100, alpha=0.7, color=\"blue\", label=\"Industri\")\n",
    "\n",
    "plt.xlabel(\"Berat\")\n",
    "plt.ylabel(\"Kekenyalan\")\n",
    "plt.title(\"Berat vs Kekenyalan\")\n",
    "plt.legend()\n",
    "plt.grid(True, linestyle=\"--\", alpha=0.5)\n",
    "plt.show()"
   ]
  },
  {
   "cell_type": "code",
   "execution_count": 12,
   "id": "354e7cd0-a7df-49f4-807f-2c43170252a5",
   "metadata": {},
   "outputs": [
    {
     "data": {
      "image/png": "[encoded data removed]",
      "text/plain": [
       "<Figure size 600x500 with 1 Axes>"
      ]
     },
     "metadata": {},
     "output_type": "display_data"
    }
   ],
   "source": [
    "import matplotlib.pyplot as plt\n",
    "\n",
    "ekspor = df[df[\"grade\"]==\"Ekspor\"]\n",
    "lokal_premium = df[df[\"grade\"]==\"LokaL Premium\"]\n",
    "industri = df[df[\"grade\"]==\"Industri\"]\n",
    "\n",
    "plt.figure(figsize=(6,5))\n",
    "plt.scatter(ekspor[\"kadar_gula\"], ekspor[\"tebal_kulit\"], s=100, alpha=0.7, color=\"red\", label=\"Ekspor\")\n",
    "plt.scatter(lokal_premium[\"kadar_gula\"], lokal_premium[\"tebal_kulit\"], s=100, alpha=0.7, color=\"green\", label=\"Lokal Premium\")\n",
    "plt.scatter(industri[\"kadar_gula\"], industri[\"tebal_kulit\"], s=100, alpha=0.7, color=\"blue\", label=\"Industri\")\n",
    "\n",
    "plt.xlabel(\"kadar_gula\")\n",
    "plt.ylabel(\"tebal_kulit\")\n",
    "plt.title(\"kadar_gula vs tebal_kulit\")\n",
    "plt.legend()\n",
    "plt.grid(True, linestyle=\"--\", alpha=0.5)\n",
    "plt.show()"
   ]
  },
  {
   "cell_type": "code",
   "execution_count": 19,
   "id": "7ae9af85-58cf-4a30-85fb-2603b6265ce4",
   "metadata": {},
   "outputs": [
    {
     "name": "stdout",
     "output_type": "stream",
     "text": [
      "Akurasi : 1.0\n"
     ]
    }
   ],
   "source": [
    "# import library yang dibutuhkan\n",
    "# \"Siapkan alatnya\"\n",
    "\n",
    "from sklearn.linear_model import LogisticRegression\n",
    "from sklearn.model_selection import train_test_split\n",
    "from sklearn.metrics import accuracy_score\n",
    "from sklearn.preprocessing import StandardScaler\n",
    "\n",
    "# siapkan data setnya\n",
    "# \"siapkan bahannya\"\n",
    "\n",
    "# siapkan features\n",
    "X = df[[\"berat\",\"kekenyalan\",\"kadar_gula\",\"tebal_kulit\"]]\n",
    "# siapkan target/label\n",
    "y = df[\"grade\"]\n",
    "\n",
    "# bagi dataset untuk latihan dan ulangan\n",
    "# 80% latihan, 20% ulangan\n",
    "X_train, X_test, y_train, y_test = train_test_split(\n",
    "    X, y, test_size=0.2, random_state=42\n",
    ")\n",
    "\n",
    "\n",
    "# lakukan scaling pada X_train dan X_test\n",
    "scaler = StandardScaler()\n",
    "X_train_scaled = scaler.fit_transform(X_train)\n",
    "X_test_scaled = scaler.transform(X_test)\n",
    "\n",
    "# buat model logisic regression namanya \"model\"\n",
    "# \"buat otak baru\"\n",
    "model = LogisticRegression()\n",
    "\n",
    "# \"suruh model belajar\"\n",
    "model.fit(X_train_scaled, y_train)\n",
    "\n",
    "# suruh otak ulangan\n",
    "y_pred = model.predict(X_test_scaled)\n",
    "\n",
    "# koreksi jawabannya\n",
    "# sama dengan kunci jawaban atau tidak\n",
    "print(\"Akurasi :\", accuracy_score(y_test, y_pred))\n",
    "print(model.classes_)"
   ]
  },
  {
   "cell_type": "code",
   "execution_count": 26,
   "id": "1205fd1a-7b90-43ca-95d0-18bb65537dd6",
   "metadata": {},
   "outputs": [
    {
     "name": "stdout",
     "output_type": "stream",
     "text": [
      "Ekspor\n",
      "['Ekspor' 'Industri' 'Lokal Premium']\n",
      "[8.11344236e-01 1.85907193e-04 1.88469857e-01]\n",
      "Prediksi Ekspor dengan tingkat keyakinan 81.13 %\n"
     ]
    }
   ],
   "source": [
    "data_baru = pd.DataFrame([[108,8.4,5,0.78]], columns=[\"berat\",\"kekenyalan\",\"kadar_gula\",\"tebal_kulit\"])\n",
    "data_baru_scaled = scaler.transform(data_baru)\n",
    "print(model.predict(data_baru_scaled)[0])\n",
    "print(model.classes_)\n",
    "print(model.predict_proba(data_baru_scaled)[0])\n",
    "\n",
    "#kode yang akan sering digunakan\n",
    "prediksi = model.predict(data_baru_scaled)[0]\n",
    "presentase = max(model.predict_proba(data_baru_scaled)[0])\n",
    "print(f\"Prediksi {prediksi} dengan tingkat keyakinan {presentase*100:.2f} %\")"
   ]
  },
  {
   "cell_type": "code",
   "execution_count": 27,
   "id": "718899a4-91dd-49a8-b900-1124d9c7bce9",
   "metadata": {},
   "outputs": [
    {
     "data": {
      "text/plain": [
       "['scaler_klasifikasi_tomat.joblib']"
      ]
     },
     "execution_count": 27,
     "metadata": {},
     "output_type": "execute_result"
    }
   ],
   "source": [
    "import joblib\n",
    "\n",
    "joblib.dump(model, \"model_klasifikasi_tomat.joblib\")\n",
    "joblib.dump(scaler, \"scaler_klasifikasi_tomat.joblib\")"
   ]
  }
 ],
 "metadata": {
  "kernelspec": {
   "display_name": "Python 3 (ipykernel)",
   "language": "python",
   "name": "python3"
  },
  "language_info": {
   "codemirror_mode": {
    "name": "ipython",
    "version": 3
   },
   "file_extension": ".py",
   "mimetype": "text/x-python",
   "name": "python",
   "nbconvert_exporter": "python",
   "pygments_lexer": "ipython3",
   "version": "3.13.5"
  }
 },
 "nbformat": 4,
 "nbformat_minor": 5
}
